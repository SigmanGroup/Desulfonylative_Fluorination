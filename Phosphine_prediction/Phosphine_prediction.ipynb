{
 "cells": [
  {
   "cell_type": "markdown",
   "metadata": {
    "ExecuteTime": {
     "end_time": "2019-07-07T03:53:31.940766Z",
     "start_time": "2019-07-07T03:53:31.935868Z"
    },
    "heading_collapsed": true
   },
   "source": [
    "# Imports"
   ]
  },
  {
   "cell_type": "code",
   "execution_count": 2,
   "metadata": {
    "ExecuteTime": {
     "end_time": "2025-01-16T17:55:15.155287Z",
     "start_time": "2025-01-16T17:55:15.133763Z"
    },
    "hidden": true
   },
   "outputs": [],
   "source": [
    "# stdlib\n",
    "import re\n",
    "import copy\n",
    "import random\n",
    "import itertools\n",
    "import statistics\n",
    "import multiprocessing\n",
    "\n",
    "# data wrangling\n",
    "import numpy as np\n",
    "import pandas as pd\n",
    "import statsmodels.api as sm\n",
    "\n",
    "from scipy import stats\n",
    "from sklearn import metrics\n",
    "from sklearn.linear_model import LinearRegression\n",
    "from sklearn.preprocessing import StandardScaler\n",
    "\n",
    "# plotting\n",
    "import seaborn as sns\n",
    "import matplotlib.pyplot as plt\n",
    "\n",
    "# custom\n",
    "from hotspot_classes import Hotspot\n",
    "import hotspot_utils\n",
    "import mlr_utils\n",
    "\n",
    "# Set the number of processors to use for parallel processing\n",
    "n_processors = max([1,multiprocessing.cpu_count()-2])\n",
    "\n",
    "# Read in the insults list\n",
    "with open('insults.txt', 'r') as f:\n",
    "    insults = f.read().splitlines()"
   ]
  },
  {
   "cell_type": "markdown",
   "metadata": {
    "heading_collapsed": true
   },
   "source": [
    "# Reading data - Works for single or double file layouts"
   ]
  },
  {
   "cell_type": "code",
   "execution_count": 7,
   "metadata": {
    "ExecuteTime": {
     "end_time": "2025-01-16T17:59:52.277289Z",
     "start_time": "2025-01-16T17:59:51.976715Z"
    },
    "hidden": true
   },
   "outputs": [
    {
     "data": {
      "image/png": "[encoded data removed]",
      "text/plain": [
       "<Figure size 360x360 with 1 Axes>"
      ]
     },
     "metadata": {},
     "output_type": "display_data"
    },
    {
     "data": {
      "text/html": [
       "<div>\n",
       "<style scoped>\n",
       "    .dataframe tbody tr th:only-of-type {\n",
       "        vertical-align: middle;\n",
       "    }\n",
       "\n",
       "    .dataframe tbody tr th {\n",
       "        vertical-align: top;\n",
       "    }\n",
       "\n",
       "    .dataframe thead th {\n",
       "        text-align: right;\n",
       "    }\n",
       "</style>\n",
       "<table border=\"1\" class=\"dataframe\">\n",
       "  <thead>\n",
       "    <tr style=\"text-align: right;\">\n",
       "      <th></th>\n",
       "      <th>Yield (%)</th>\n",
       "      <th>nbo_lp_P_e_boltz</th>\n",
       "      <th>pyr_P_boltz</th>\n",
       "      <th>vbur_vbur_min</th>\n",
       "    </tr>\n",
       "    <tr>\n",
       "      <th>ID</th>\n",
       "      <th></th>\n",
       "      <th></th>\n",
       "      <th></th>\n",
       "      <th></th>\n",
       "    </tr>\n",
       "  </thead>\n",
       "  <tbody>\n",
       "    <tr>\n",
       "      <th>1</th>\n",
       "      <td>1</td>\n",
       "      <td>-0.300539</td>\n",
       "      <td>0.925709</td>\n",
       "      <td>56.456887</td>\n",
       "    </tr>\n",
       "    <tr>\n",
       "      <th>3</th>\n",
       "      <td>1</td>\n",
       "      <td>-0.295813</td>\n",
       "      <td>0.931197</td>\n",
       "      <td>56.874203</td>\n",
       "    </tr>\n",
       "    <tr>\n",
       "      <th>4</th>\n",
       "      <td>1</td>\n",
       "      <td>-0.294567</td>\n",
       "      <td>0.929776</td>\n",
       "      <td>55.427717</td>\n",
       "    </tr>\n",
       "    <tr>\n",
       "      <th>64</th>\n",
       "      <td>3</td>\n",
       "      <td>-0.295658</td>\n",
       "      <td>0.885927</td>\n",
       "      <td>59.639575</td>\n",
       "    </tr>\n",
       "    <tr>\n",
       "      <th>89</th>\n",
       "      <td>77</td>\n",
       "      <td>-0.280946</td>\n",
       "      <td>0.818824</td>\n",
       "      <td>78.888404</td>\n",
       "    </tr>\n",
       "    <tr>\n",
       "      <th>102</th>\n",
       "      <td>14</td>\n",
       "      <td>-0.292564</td>\n",
       "      <td>0.913858</td>\n",
       "      <td>62.697800</td>\n",
       "    </tr>\n",
       "    <tr>\n",
       "      <th>103</th>\n",
       "      <td>63</td>\n",
       "      <td>-0.281184</td>\n",
       "      <td>0.814801</td>\n",
       "      <td>74.987180</td>\n",
       "    </tr>\n",
       "    <tr>\n",
       "      <th>347</th>\n",
       "      <td>78</td>\n",
       "      <td>-0.269589</td>\n",
       "      <td>0.816870</td>\n",
       "      <td>74.409841</td>\n",
       "    </tr>\n",
       "    <tr>\n",
       "      <th>369</th>\n",
       "      <td>62</td>\n",
       "      <td>-0.270709</td>\n",
       "      <td>0.813021</td>\n",
       "      <td>73.230060</td>\n",
       "    </tr>\n",
       "  </tbody>\n",
       "</table>\n",
       "</div>"
      ],
      "text/plain": [
       "     Yield (%)  nbo_lp_P_e_boltz  pyr_P_boltz  vbur_vbur_min\n",
       "ID                                                          \n",
       "1            1         -0.300539     0.925709      56.456887\n",
       "3            1         -0.295813     0.931197      56.874203\n",
       "4            1         -0.294567     0.929776      55.427717\n",
       "64           3         -0.295658     0.885927      59.639575\n",
       "89          77         -0.280946     0.818824      78.888404\n",
       "102         14         -0.292564     0.913858      62.697800\n",
       "103         63         -0.281184     0.814801      74.987180\n",
       "347         78         -0.269589     0.816870      74.409841\n",
       "369         62         -0.270709     0.813021      73.230060"
      ]
     },
     "metadata": {},
     "output_type": "display_data"
    }
   ],
   "source": [
    "# This cell assumes that your spreadsheets are in .xlsx format and that there are no columns after the parameters\n",
    "# or rows after the last reaction. Extra rows and columns before the data are fine and can be skipped with the\n",
    "# vs_parameters_header_rows and vs_parameters_start_col variables.\n",
    "# Check cell outputs to make sure everything looks good\n",
    "\n",
    "parameters_file = \"phosphine_train-val\" # Excel file to pull parameters from\n",
    "parameters_sheet = \"training\" # Sheet in the Excel file to pull parameters from\n",
    "parameters_start_col = 2 # 0-indexed column number where the parameters start\n",
    "parameters_y_label_col = 0  # 0-indexed column number where the ligand labels are\n",
    "parameters_header_rows = 0 # Number of rows to skip when reading the parameters\n",
    "\n",
    "response_file = \"phosphine_train-val\" # Excel file to pull responses from\n",
    "response_sheet = \"training\" # Sheet in the Excel file to pull responses from\n",
    "response_col = 1 # 0-indexed column number for the responses\n",
    "response_y_label_col = 0  # 0-indexed column number where the ligand labels are\n",
    "response_header_rows = 0 # Number of rows to skip when reading the responses\n",
    "\n",
    "RESPONSE_LABEL = \"Yield (%)\" # Name of your response variable\n",
    "\n",
    "# --------------------------------------------------------------------------------------------------------------\n",
    "# EDIT ABOVE THIS LINE\n",
    "# --------------------------------------------------------------------------------------------------------------\n",
    "\n",
    "# Actually start reading stuff into dataframes\n",
    "parameters_df = pd.read_excel(\"./InputData/\" + parameters_file + \".xlsx\",\n",
    "                              parameters_sheet,\n",
    "                              header = parameters_header_rows,\n",
    "                              index_col = parameters_y_label_col,\n",
    "                              )\n",
    "response_df = pd.read_excel(\"./InputData/\" + response_file + \".xlsx\",\n",
    "                            response_sheet,\n",
    "                            header = response_header_rows,\n",
    "                            index_col = response_y_label_col,\n",
    "                            usecols = list(range(0, response_col + 1))\n",
    "                            )\n",
    "\n",
    "\n",
    "# Drop any columns before parameters_start_col that are not the index column\n",
    "parameters_columns_to_keep = [col for col in range(0, len(parameters_df.columns)) if col >= parameters_start_col-1]\n",
    "parameters_df = parameters_df.iloc[:,parameters_columns_to_keep]\n",
    "\n",
    "# Combine the two dataframes into the master dataframe\n",
    "response_df.drop(response_df.columns[0:response_col-1], axis = 'columns', inplace = True)\n",
    "data_df = response_df.merge(parameters_df, left_index = True, right_index = True)\n",
    "data_df.rename(columns = {data_df.columns.values[0]: RESPONSE_LABEL}, inplace = True) # Converts the output column name from whatever it is on the spreadsheet\n",
    "data_df.dropna(inplace = True) # Remove any rows with blanks\n",
    "\n",
    "# This converts all the data to numeric values since it was reading them in as non-numeric objects for some reason\n",
    "for column in data_df.columns:\n",
    "    data_df[column] = pd.to_numeric(data_df[column], errors='coerce')\n",
    "\n",
    "# Get a list of all the features\n",
    "all_features = list(data_df.columns)\n",
    "all_features.remove(RESPONSE_LABEL)\n",
    "\n",
    "# Check for duplicate reaction labels or column names\n",
    "error = False\n",
    "if len(list(data_df.index)) != len(list(set(data_df.index))):\n",
    "    print('THERE ARE DUPLICATE REACTION LABELS IN THE DATA. PLEASE CORRECT THIS IN YOUR SPREADSHEET.')\n",
    "    error = True\n",
    "if len(list(data_df.columns)) != len(list(set(data_df.columns))):\n",
    "    print('THERE ARE DUPLICATE COLUMN NAMES IN THE DATA. PLEASE CORRECT THIS IN YOUR SPREADSHEET.')\n",
    "    error = True\n",
    "\n",
    "if not error:\n",
    "    # Print out the data distribution of the response variable\n",
    "    plt.figure(figsize=(5, 5))\n",
    "    plt.hist(data_df[RESPONSE_LABEL], color='grey')\n",
    "    plt.xlabel(RESPONSE_LABEL, fontsize=14)\n",
    "    plt.ylabel(\"Frequency\", fontsize=14)\n",
    "    plt.show()\n",
    "\n",
    "    # Display the dataframe\n",
    "    display(data_df)"
   ]
  },
  {
   "cell_type": "markdown",
   "metadata": {
    "heading_collapsed": true
   },
   "source": [
    "# Basic visualization"
   ]
  },
  {
   "cell_type": "markdown",
   "metadata": {
    "hidden": true
   },
   "source": [
    "## Histograms and univariate correlations"
   ]
  },
  {
   "cell_type": "code",
   "execution_count": 8,
   "metadata": {
    "ExecuteTime": {
     "end_time": "2025-01-16T18:00:01.420488Z",
     "start_time": "2025-01-16T17:59:59.588919Z"
    },
    "hidden": true
   },
   "outputs": [
    {
     "name": "stdout",
     "output_type": "stream",
     "text": [
      "['nbo_lp_P_e_boltz', 'pyr_P_boltz', 'vbur_vbur_min']\n",
      "nbo_lp_P_e_boltz\n"
     ]
    },
    {
     "data": {
      "image/png": "[encoded data removed]",
      "text/plain": [
       "<Figure size 648x288 with 2 Axes>"
      ]
     },
     "metadata": {},
     "output_type": "display_data"
    },
    {
     "name": "stdout",
     "output_type": "stream",
     "text": [
      "R^2 = 0.85; p-value = 3.62E-04\n",
      "\n",
      "-------------------------------------------------------------------------------\n",
      "\n",
      "pyr_P_boltz\n"
     ]
    },
    {
     "data": {
      "image/png": "[encoded data removed]",
      "text/plain": [
       "<Figure size 648x288 with 2 Axes>"
      ]
     },
     "metadata": {},
     "output_type": "display_data"
    },
    {
     "name": "stdout",
     "output_type": "stream",
     "text": [
      "R^2 = 0.91; p-value = 5.70E-05\n",
      "\n",
      "-------------------------------------------------------------------------------\n",
      "\n",
      "vbur_vbur_min\n"
     ]
    },
    {
     "data": {
      "image/png": "[encoded data removed]",
      "text/plain": [
       "<Figure size 648x288 with 2 Axes>"
      ]
     },
     "metadata": {},
     "output_type": "display_data"
    },
    {
     "name": "stdout",
     "output_type": "stream",
     "text": [
      "R^2 = 0.96; p-value = 2.77E-06\n",
      "\n",
      "-------------------------------------------------------------------------------\n",
      "\n",
      "At least one result!\n"
     ]
    }
   ],
   "source": [
    "# {features} should be a list of feature names or column numbers you want to get the distribution and correlation for\n",
    "features = all_features # Cycles through all features\n",
    "# features = list(range(4,16)) + [27, 32] # Cycles through a specific set of features by column number\n",
    "# features = ['vbur_vbur_min', 'vmin_vmin_boltz'] # Cycles through a specific set of features by name\n",
    "\n",
    "r2_cutoff = 0.3 # R^2 cutoff for correlation below which the feature will be skipped\n",
    "\n",
    "# This feels like a relic of a bygone era, but here it is. 'matplotlib' refers to what was once the 'OG' cell.\n",
    "visualization_type = 'seaborn' # 'matplotlib' or 'seaborn'\n",
    "\n",
    "# --------------------------------------------------------------------------------------------------------------\n",
    "# EDIT ABOVE THIS LINE\n",
    "# --------------------------------------------------------------------------------------------------------------\n",
    "\n",
    "# Convert all features to column names\n",
    "features = mlr_utils.process_features(features, data_df)\n",
    "print(features)\n",
    "\n",
    "anything = False\n",
    "for feature in features:\n",
    "    print(feature)\n",
    "\n",
    "    # If the feature has no variance it would break the math later on, so we skip it\n",
    "    if data_df[feature].std() == 0:\n",
    "        print(\"No variance in feature. Skipping.\")\n",
    "        continue\n",
    "\n",
    "    # Get stats and line of best fit\n",
    "    slope, intercept, r_value, p_value, std_err = stats.linregress(data_df[feature], data_df[RESPONSE_LABEL])\n",
    "    fit_line = intercept+slope*data_df[feature]\n",
    "\n",
    "    # Skip the rest if R^2 is below the cutoff\n",
    "    if r_value**2 < r2_cutoff:\n",
    "        print(\"R^2 below cutoff. Skipping.\")\n",
    "        continue\n",
    "\n",
    "    plt.figure(figsize=(9, 4))\n",
    "    \n",
    "    # Plot feature distribution\n",
    "    plt.subplot(1,2,1)\n",
    "    plt.hist(data_df[feature], bins=15)\n",
    "    plt.ylabel(\"frequency\",fontsize=15)\n",
    "    plt.xlabel(f'{feature}',fontsize=15)\n",
    "    plt.yticks(fontsize=12)\n",
    "    plt.xticks(fontsize=12)\n",
    "\n",
    "    # Plot univariate correlation\n",
    "    plt.subplot(1,2,2)\n",
    "\n",
    "    if visualization_type == 'matplotlib':\n",
    "        plt.scatter(data_df[feature], data_df[RESPONSE_LABEL],color=\"black\",marker=\"s\",alpha=0.5)    \n",
    "        plt.plot(data_df[feature],fit_line,color=\"black\")\n",
    "    elif visualization_type == 'seaborn':\n",
    "        sns.set_style(\"white\")\n",
    "        sns.regplot(x=data_df[feature],y=data_df[RESPONSE_LABEL],ci=95,truncate=False)\n",
    "        x_max=np.max(data_df[feature])\n",
    "        x_min=np.min(data_df[feature])\n",
    "        y_max=np.max(data_df[RESPONSE_LABEL])\n",
    "        y_min=np.min(data_df[RESPONSE_LABEL])\n",
    "        delta_x = 0.05 * (x_max-x_min)\n",
    "        delta_y = 0.05 * (y_max-y_min)\n",
    "        plt.xlim([x_min-delta_x,x_max+delta_x])\n",
    "        plt.ylim([y_min-delta_y,y_max+delta_y])\n",
    "    else:\n",
    "        print(f'Invalid visualization type: {visualization_type}. Please fix and try again.')\n",
    "        break\n",
    "\n",
    "    plt.xlabel(f'{feature}',fontsize=15)\n",
    "    plt.ylabel(RESPONSE_LABEL,fontsize=15)\n",
    "    plt.yticks(fontsize=12)\n",
    "    plt.xticks(fontsize=12) \n",
    "\n",
    "    plt.tight_layout()\n",
    "    plt.show()  \n",
    "    anything = True  \n",
    "\n",
    "    if p_value > 0.01:\n",
    "        print(\"R^2 = {:.2f}; p-value = {:.2f}\".format(r_value**2,p_value))\n",
    "    else:\n",
    "        print(\"R^2 = {:.2f}; p-value = {:.2E}\".format(r_value**2,p_value))\n",
    "    print(\"\\n-------------------------------------------------------------------------------\\n\") \n",
    "\n",
    "if anything:\n",
    "    print('At least one result!') \n",
    "else:\n",
    "    print('No results!') "
   ]
  },
  {
   "cell_type": "markdown",
   "metadata": {
    "heading_collapsed": true
   },
   "source": [
    "# Threshold Analysis"
   ]
  },
  {
   "cell_type": "markdown",
   "metadata": {
    "hidden": true
   },
   "source": [
    "## Train / Test split"
   ]
  },
  {
   "cell_type": "code",
   "execution_count": 9,
   "metadata": {
    "ExecuteTime": {
     "end_time": "2025-01-16T18:00:28.883556Z",
     "start_time": "2025-01-16T18:00:28.213060Z"
    },
    "hidden": true
   },
   "outputs": [
    {
     "name": "stdout",
     "output_type": "stream",
     "text": [
      "Training Set: [1, 3, 4, 64, 89, 102, 103, 347, 369]\n",
      "Validation Set: []\n",
      "Test Set: []\n",
      "\n",
      "Training Set size: 9\n",
      "Validation Set size: 0\n",
      "Test Set size: 0\n",
      "\n",
      "Training Set mean: 33.333\n",
      "Validation Set mean: nan\n",
      "Test Set mean: nan\n"
     ]
    },
    {
     "data": {
      "image/png": "[encoded data removed]",
      "text/plain": [
       "<Figure size 360x360 with 1 Axes>"
      ]
     },
     "metadata": {},
     "output_type": "display_data"
    }
   ],
   "source": [
    "# Split options are 'random', 'ks', 'y_equidistant', 'stratified', 'define', 'none'\n",
    "\n",
    "# Core options\n",
    "split = \"none\"\n",
    "test_ratio = 0.2 \n",
    "\n",
    "# Less common parameters\n",
    "stratified_quantiles = 10 # Number of quantiles to split the data into for stratified sampling\n",
    "defined_training_set = [] # If you want to manually define the training set, put the list of points here\n",
    "defined_test_set = [] # If you want to manually define the test set, put the list of points here\n",
    "randomstate = 42 # Random state for reproducibility\n",
    "\n",
    "# --------------------------------------------------------------------------------------------------------------\n",
    "training_set, validation_set, test_set = hotspot_utils.train_test_splits(data_df, split, test_ratio, all_features, RESPONSE_LABEL,\n",
    "                                                        defined_test_set=defined_test_set, defined_training_set=defined_training_set,\n",
    "                                                        randomstate=randomstate, stratified_quantiles=stratified_quantiles)"
   ]
  },
  {
   "cell_type": "markdown",
   "metadata": {
    "hidden": true
   },
   "source": [
    "## Automatic Threshold Analysis"
   ]
  },
  {
   "cell_type": "code",
   "execution_count": 10,
   "metadata": {
    "ExecuteTime": {
     "end_time": "2025-01-16T18:00:35.667394Z",
     "start_time": "2025-01-16T18:00:35.486847Z"
    },
    "hidden": true
   },
   "outputs": [
    {
     "name": "stdout",
     "output_type": "stream",
     "text": [
      "Hotspot Index: 0\n",
      "Total accuracy with 1 thresholds: 1.000\n",
      "Initial accuracy with no thresholds: 0.444\n",
      "Total accuracy with 1 thresholds: 1.000\n",
      "Initial accuracy with no thresholds: 0.444\n",
      "Thresholds: \n",
      "\tnbo_lp_P_e_boltz > -0.287 with Added accuracy of 0.556\n",
      "\n",
      "                    all    train    test\n",
      "         Accuracy: 1.000   1.000   0.000\n",
      "Weighted Accuracy: 1.000   1.000   0.000\n",
      "               F1: 1.000   1.000   0.000\n",
      "      Weighted F1: 1.000   1.000   0.000\n",
      "\n",
      "        Precision: 1.000\n",
      "           Recall: 1.000\n",
      "\n",
      "**********************************\n",
      "\n",
      "Hotspot Index: 1\n",
      "Total accuracy with 1 thresholds: 1.000\n",
      "Initial accuracy with no thresholds: 0.444\n",
      "Total accuracy with 1 thresholds: 1.000\n",
      "Initial accuracy with no thresholds: 0.444\n",
      "Thresholds: \n",
      "\tpyr_P_boltz < 0.852 with Added accuracy of 0.556\n",
      "\n",
      "                    all    train    test\n",
      "         Accuracy: 1.000   1.000   0.000\n",
      "Weighted Accuracy: 1.000   1.000   0.000\n",
      "               F1: 1.000   1.000   0.000\n",
      "      Weighted F1: 1.000   1.000   0.000\n",
      "\n",
      "        Precision: 1.000\n",
      "           Recall: 1.000\n",
      "\n",
      "**********************************\n",
      "\n",
      "Hotspot Index: 2\n",
      "Total accuracy with 1 thresholds: 1.000\n",
      "Initial accuracy with no thresholds: 0.444\n",
      "Total accuracy with 1 thresholds: 1.000\n",
      "Initial accuracy with no thresholds: 0.444\n",
      "Thresholds: \n",
      "\tvbur_vbur_min > 67.964 with Added accuracy of 0.556\n",
      "\n",
      "                    all    train    test\n",
      "         Accuracy: 1.000   1.000   0.000\n",
      "Weighted Accuracy: 1.000   1.000   0.000\n",
      "               F1: 1.000   1.000   0.000\n",
      "      Weighted F1: 1.000   1.000   0.000\n",
      "\n",
      "        Precision: 1.000\n",
      "           Recall: 1.000\n",
      "\n",
      "**********************************\n",
      "\n"
     ]
    }
   ],
   "source": [
    "# Cutoff in your output for what counts as an active ligand\n",
    "y_cut = 30\n",
    "\n",
    "# Set to True if you want points below the y-cut to be considered active\n",
    "low_is_good = False\n",
    "\n",
    "# How heavily to value active ligands (1) over inactive ligands (0)\n",
    "class_weight = {1:1, 0:1} \n",
    "\n",
    "# How the prune_hotspots and find_best_hotspots evaluates which are the best\n",
    "# Can be set to 'accuracy', 'weighted_accuracy', 'f1', and 'weighted_f1'\n",
    "evaluation_method = 'accuracy'\n",
    "\n",
    "# How many threshold dimensions do you want?\n",
    "n_thresholds = 1\n",
    "\n",
    "# What percentage of thresholds are analyzed in each subsequent step\n",
    "percentage = 100\n",
    "\n",
    "# --------------------------------------------------------------------------------------------------------------\n",
    "# EDIT ABOVE THIS LINE\n",
    "# --------------------------------------------------------------------------------------------------------------\n",
    "\n",
    "# Set up y_class, the binary list of which y values are above y_cut\n",
    "hotspot_data_df = copy.deepcopy(data_df)\n",
    "hotspot_data_df['y_class'] = 0\n",
    "\n",
    "if(low_is_good):\n",
    "    for i in hotspot_data_df.index:\n",
    "        hotspot_data_df.loc[i, 'y_class'] = int(hotspot_data_df.loc[i, RESPONSE_LABEL] < y_cut)\n",
    "else:\n",
    "    for i in hotspot_data_df.index:\n",
    "        hotspot_data_df.loc[i, 'y_class'] = int(hotspot_data_df.loc[i, RESPONSE_LABEL] > y_cut)\n",
    "\n",
    "# Find the best thresholds within the full X and y space and make single threshold hotspot objects from them\n",
    "all_thresholds = hotspot_utils.threshold_generation(hotspot_data_df, class_weight, evaluation_method, all_features)\n",
    "best_hotspots = []\n",
    "for thresh in all_thresholds:\n",
    "    temp_hs = Hotspot(hotspot_data_df, [thresh], y_cut, training_set, test_set, evaluation_method, class_weight)\n",
    "    best_hotspots.append(temp_hs)\n",
    "\n",
    "# Cut down to the best {percentage} hotspots\n",
    "best_hotspots = hotspot_utils.prune_hotspots(best_hotspots, percentage, evaluation_method)\n",
    "\n",
    "# Add more thresholds, pruning after each step for resource management\n",
    "for i in range(n_thresholds - 1):\n",
    "    with multiprocessing.Pool(processes=int(n_processors-2)) as p:\n",
    "        new_hotspots = p.starmap(hotspot_utils.hs_next_thresholds_fast, zip(best_hotspots, itertools.repeat(all_thresholds)))\n",
    "    new_hotspots = [item for sublist in new_hotspots for item in sublist] \n",
    "    \n",
    "    best_hotspots = hotspot_utils.prune_hotspots(new_hotspots, percentage, evaluation_method)\n",
    "\n",
    "best_hotspots.sort(key = lambda x: x.accuracy_dict[evaluation_method], reverse = True)\n",
    "\n",
    "# print the top 5 hotspots\n",
    "for i, hs in enumerate(best_hotspots[:30]):\n",
    "    print(f'Hotspot Index: {i}')\n",
    "    print(hs)\n",
    "    hs.print_stats()\n",
    "    print('\\n**********************************\\n')"
   ]
  },
  {
   "cell_type": "markdown",
   "metadata": {},
   "source": [
    "# Virtual Screening / Validation"
   ]
  },
  {
   "cell_type": "markdown",
   "metadata": {},
   "source": [
    "## Import Virtual Screening / Validation Parameter Data"
   ]
  },
  {
   "cell_type": "markdown",
   "metadata": {},
   "source": [
    "This cell must be executed before any other validation or virtual screening cells"
   ]
  },
  {
   "cell_type": "code",
   "execution_count": 13,
   "metadata": {
    "ExecuteTime": {
     "end_time": "2025-01-16T18:02:26.213449Z",
     "start_time": "2025-01-16T18:02:26.173406Z"
    }
   },
   "outputs": [
    {
     "data": {
      "text/html": [
       "<div>\n",
       "<style scoped>\n",
       "    .dataframe tbody tr th:only-of-type {\n",
       "        vertical-align: middle;\n",
       "    }\n",
       "\n",
       "    .dataframe tbody tr th {\n",
       "        vertical-align: top;\n",
       "    }\n",
       "\n",
       "    .dataframe thead th {\n",
       "        text-align: right;\n",
       "    }\n",
       "</style>\n",
       "<table border=\"1\" class=\"dataframe\">\n",
       "  <thead>\n",
       "    <tr style=\"text-align: right;\">\n",
       "      <th></th>\n",
       "      <th>nbo_lp_P_e_boltz</th>\n",
       "      <th>pyr_P_boltz</th>\n",
       "      <th>vbur_vbur_min</th>\n",
       "    </tr>\n",
       "    <tr>\n",
       "      <th>ID</th>\n",
       "      <th></th>\n",
       "      <th></th>\n",
       "      <th></th>\n",
       "    </tr>\n",
       "  </thead>\n",
       "  <tbody>\n",
       "    <tr>\n",
       "      <th>60</th>\n",
       "      <td>-0.259440</td>\n",
       "      <td>0.755765</td>\n",
       "      <td>86.647971</td>\n",
       "    </tr>\n",
       "    <tr>\n",
       "      <th>91</th>\n",
       "      <td>-0.286998</td>\n",
       "      <td>0.848931</td>\n",
       "      <td>67.372994</td>\n",
       "    </tr>\n",
       "    <tr>\n",
       "      <th>281</th>\n",
       "      <td>-0.288775</td>\n",
       "      <td>0.868400</td>\n",
       "      <td>65.826101</td>\n",
       "    </tr>\n",
       "    <tr>\n",
       "      <th>291</th>\n",
       "      <td>-0.273551</td>\n",
       "      <td>0.767299</td>\n",
       "      <td>78.110251</td>\n",
       "    </tr>\n",
       "    <tr>\n",
       "      <th>306</th>\n",
       "      <td>-0.279132</td>\n",
       "      <td>0.857095</td>\n",
       "      <td>66.921163</td>\n",
       "    </tr>\n",
       "    <tr>\n",
       "      <th>349</th>\n",
       "      <td>-0.279091</td>\n",
       "      <td>0.859695</td>\n",
       "      <td>65.849111</td>\n",
       "    </tr>\n",
       "    <tr>\n",
       "      <th>371</th>\n",
       "      <td>-0.282973</td>\n",
       "      <td>0.859586</td>\n",
       "      <td>66.277932</td>\n",
       "    </tr>\n",
       "    <tr>\n",
       "      <th>527</th>\n",
       "      <td>-0.278916</td>\n",
       "      <td>0.860523</td>\n",
       "      <td>65.751842</td>\n",
       "    </tr>\n",
       "    <tr>\n",
       "      <th>534</th>\n",
       "      <td>-0.275946</td>\n",
       "      <td>0.775464</td>\n",
       "      <td>77.885382</td>\n",
       "    </tr>\n",
       "  </tbody>\n",
       "</table>\n",
       "</div>"
      ],
      "text/plain": [
       "     nbo_lp_P_e_boltz  pyr_P_boltz  vbur_vbur_min\n",
       "ID                                               \n",
       "60          -0.259440     0.755765      86.647971\n",
       "91          -0.286998     0.848931      67.372994\n",
       "281         -0.288775     0.868400      65.826101\n",
       "291         -0.273551     0.767299      78.110251\n",
       "306         -0.279132     0.857095      66.921163\n",
       "349         -0.279091     0.859695      65.849111\n",
       "371         -0.282973     0.859586      66.277932\n",
       "527         -0.278916     0.860523      65.751842\n",
       "534         -0.275946     0.775464      77.885382"
      ]
     },
     "metadata": {},
     "output_type": "display_data"
    }
   ],
   "source": [
    "# This cell assumes that your spreadsheet is in .xlsx format and that there are no columns after the parameters\n",
    "# or rows after the last reaction. Extra rows and columns before the data are fine and can be skipped with the\n",
    "# vs_parameters_header_rows and vs_parameters_start_col variables.\n",
    "\n",
    "vs_parameters_file = \"phosphine_train-val\" # Excel file to pull parameters from\n",
    "vs_parameters_sheet = \"validation\" # Sheet in the Excel file to pull parameters from\n",
    "vs_parameters_start_col = 2   # 0-indexed column number where the parameters start\n",
    "vs_parameters_y_label_col = 0  # 0-indexed column number where the ligand labels are\n",
    "vs_parameters_header_rows = 0 # Number of rows to skip when reading the parameters. First row should be parameter names.\n",
    "\n",
    "# --------------------------------------------------------------------------------------------------------------\n",
    "# EDIT ABOVE THIS LINE\n",
    "# --------------------------------------------------------------------------------------------------------------\n",
    "\n",
    "# Actually start reading stuff into a dataframe\n",
    "vs_parameters_df = pd.read_excel(\"./InputData/\" + vs_parameters_file + \".xlsx\",\n",
    "                              vs_parameters_sheet,\n",
    "                              header = vs_parameters_header_rows,\n",
    "                              index_col = vs_parameters_y_label_col,\n",
    "                              )\n",
    "\n",
    "# Skip any columns that are not parameters\n",
    "vs_parameters_df = vs_parameters_df.iloc[:,vs_parameters_start_col-1:]\n",
    "\n",
    "# Check that all parameters from the original dataset are present and put them in the same order\n",
    "try:\n",
    "  vs_parameters_df = vs_parameters_df[all_features]\n",
    "except KeyError:\n",
    "  print('There are features in the main dataset that are not present in this parameter file.')\n",
    "  print('If your model was built with scaled features, this will cause an error downstream.')\n",
    "\n",
    "  # If any parameters are missing, at least remove all columns that are not in the original dataset\n",
    "  columns_to_keep = [col for col in vs_parameters_df.columns if col in all_features]\n",
    "  vs_parameters_df = vs_parameters_df[columns_to_keep]\n",
    "\n",
    "# Display the dataframe\n",
    "display(vs_parameters_df)"
   ]
  },
  {
   "cell_type": "markdown",
   "metadata": {},
   "source": [
    "## Validation"
   ]
  },
  {
   "cell_type": "code",
   "execution_count": 14,
   "metadata": {
    "ExecuteTime": {
     "end_time": "2025-01-16T18:02:29.444176Z",
     "start_time": "2025-01-16T18:02:29.389853Z"
    }
   },
   "outputs": [
    {
     "data": {
      "text/html": [
       "<div>\n",
       "<style scoped>\n",
       "    .dataframe tbody tr th:only-of-type {\n",
       "        vertical-align: middle;\n",
       "    }\n",
       "\n",
       "    .dataframe tbody tr th {\n",
       "        vertical-align: top;\n",
       "    }\n",
       "\n",
       "    .dataframe thead th {\n",
       "        text-align: right;\n",
       "    }\n",
       "</style>\n",
       "<table border=\"1\" class=\"dataframe\">\n",
       "  <thead>\n",
       "    <tr style=\"text-align: right;\">\n",
       "      <th></th>\n",
       "      <th>Yield (%)</th>\n",
       "      <th>nbo_lp_P_e_boltz</th>\n",
       "      <th>pyr_P_boltz</th>\n",
       "      <th>vbur_vbur_min</th>\n",
       "    </tr>\n",
       "    <tr>\n",
       "      <th>ID</th>\n",
       "      <th></th>\n",
       "      <th></th>\n",
       "      <th></th>\n",
       "      <th></th>\n",
       "    </tr>\n",
       "  </thead>\n",
       "  <tbody>\n",
       "    <tr>\n",
       "      <th>60</th>\n",
       "      <td>0</td>\n",
       "      <td>-0.259440</td>\n",
       "      <td>0.755765</td>\n",
       "      <td>86.647971</td>\n",
       "    </tr>\n",
       "    <tr>\n",
       "      <th>91</th>\n",
       "      <td>0</td>\n",
       "      <td>-0.286998</td>\n",
       "      <td>0.848931</td>\n",
       "      <td>67.372994</td>\n",
       "    </tr>\n",
       "    <tr>\n",
       "      <th>281</th>\n",
       "      <td>0</td>\n",
       "      <td>-0.288775</td>\n",
       "      <td>0.868400</td>\n",
       "      <td>65.826101</td>\n",
       "    </tr>\n",
       "    <tr>\n",
       "      <th>291</th>\n",
       "      <td>72</td>\n",
       "      <td>-0.273551</td>\n",
       "      <td>0.767299</td>\n",
       "      <td>78.110251</td>\n",
       "    </tr>\n",
       "    <tr>\n",
       "      <th>306</th>\n",
       "      <td>1</td>\n",
       "      <td>-0.279132</td>\n",
       "      <td>0.857095</td>\n",
       "      <td>66.921163</td>\n",
       "    </tr>\n",
       "    <tr>\n",
       "      <th>349</th>\n",
       "      <td>0</td>\n",
       "      <td>-0.279091</td>\n",
       "      <td>0.859695</td>\n",
       "      <td>65.849111</td>\n",
       "    </tr>\n",
       "    <tr>\n",
       "      <th>371</th>\n",
       "      <td>77</td>\n",
       "      <td>-0.282973</td>\n",
       "      <td>0.859586</td>\n",
       "      <td>66.277932</td>\n",
       "    </tr>\n",
       "    <tr>\n",
       "      <th>527</th>\n",
       "      <td>22</td>\n",
       "      <td>-0.278916</td>\n",
       "      <td>0.860523</td>\n",
       "      <td>65.751842</td>\n",
       "    </tr>\n",
       "    <tr>\n",
       "      <th>534</th>\n",
       "      <td>61</td>\n",
       "      <td>-0.275946</td>\n",
       "      <td>0.775464</td>\n",
       "      <td>77.885382</td>\n",
       "    </tr>\n",
       "  </tbody>\n",
       "</table>\n",
       "</div>"
      ],
      "text/plain": [
       "     Yield (%)  nbo_lp_P_e_boltz  pyr_P_boltz  vbur_vbur_min\n",
       "ID                                                          \n",
       "60           0         -0.259440     0.755765      86.647971\n",
       "91           0         -0.286998     0.848931      67.372994\n",
       "281          0         -0.288775     0.868400      65.826101\n",
       "291         72         -0.273551     0.767299      78.110251\n",
       "306          1         -0.279132     0.857095      66.921163\n",
       "349          0         -0.279091     0.859695      65.849111\n",
       "371         77         -0.282973     0.859586      66.277932\n",
       "527         22         -0.278916     0.860523      65.751842\n",
       "534         61         -0.275946     0.775464      77.885382"
      ]
     },
     "metadata": {},
     "output_type": "display_data"
    }
   ],
   "source": [
    "# Run this cell before the specific validation cells to set up the validation dataframe\n",
    "# Read the validation results from the excel sheet\n",
    "# The final result should be a dataframe with indicies corresponding to the vs_parameters_df from above,\n",
    "# a column of experimental outputs, and all the relevant parameters\n",
    "\n",
    "validation_file = \"phosphine_train-val\" # Excel file to pull validation results from\n",
    "validation_sheet = \"validation\" # Sheet in the Excel file to pull validation results from\n",
    "validation_response_col = 1 # 0-indexed column number for the experimental output\n",
    "validation_y_label_col = 0  # 0-indexed column number where the ligand labels are\n",
    "validation_header_rows = 0 # Number of rows to skip when reading the responses\n",
    "\n",
    "############################################################################################################\n",
    "\n",
    "vs_response_df = pd.read_excel('./InputData/' + validation_file + '.xlsx',\n",
    "                              sheet_name=validation_sheet,\n",
    "                              header=validation_header_rows,\n",
    "                              index_col=validation_y_label_col\n",
    "                              )\n",
    "\n",
    "# Drop all columns except the experimental output\n",
    "vs_response_df = vs_response_df.iloc[:, [validation_response_col-1]]\n",
    "vs_response_df.columns = [RESPONSE_LABEL]\n",
    "\n",
    "for column in vs_response_df.columns:\n",
    "    vs_response_df[column] = pd.to_numeric(vs_response_df[column], errors='coerce')\n",
    "vs_response_df.dropna(inplace = True)\n",
    "\n",
    "vs_combined_df = pd.concat([vs_response_df, vs_parameters_df], axis=1, join='inner')\n",
    "\n",
    "display(vs_combined_df)"
   ]
  },
  {
   "cell_type": "markdown",
   "metadata": {},
   "source": [
    "### Threshold Validation"
   ]
  },
  {
   "cell_type": "code",
   "execution_count": 15,
   "metadata": {
    "ExecuteTime": {
     "end_time": "2025-01-16T18:02:35.381662Z",
     "start_time": "2025-01-16T18:02:34.976019Z"
    },
    "scrolled": false
   },
   "outputs": [
    {
     "name": "stdout",
     "output_type": "stream",
     "text": [
      "Accuracy: 0.56\n",
      "Precision: 0.43\n",
      "Recall: 1.00\n"
     ]
    },
    {
     "data": {
      "image/png": "[encoded data removed]",
      "text/plain": [
       "<Figure size 720x576 with 1 Axes>"
      ]
     },
     "metadata": {},
     "output_type": "display_data"
    },
    {
     "data": {
      "text/html": [
       "<div>\n",
       "<style scoped>\n",
       "    .dataframe tbody tr th:only-of-type {\n",
       "        vertical-align: middle;\n",
       "    }\n",
       "\n",
       "    .dataframe tbody tr th {\n",
       "        vertical-align: top;\n",
       "    }\n",
       "\n",
       "    .dataframe thead th {\n",
       "        text-align: right;\n",
       "    }\n",
       "</style>\n",
       "<table border=\"1\" class=\"dataframe\">\n",
       "  <thead>\n",
       "    <tr style=\"text-align: right;\">\n",
       "      <th></th>\n",
       "      <th>nbo_lp_P_e_boltz</th>\n",
       "    </tr>\n",
       "    <tr>\n",
       "      <th>ID</th>\n",
       "      <th></th>\n",
       "    </tr>\n",
       "  </thead>\n",
       "  <tbody>\n",
       "    <tr>\n",
       "      <th>60</th>\n",
       "      <td>True</td>\n",
       "    </tr>\n",
       "    <tr>\n",
       "      <th>91</th>\n",
       "      <td>False</td>\n",
       "    </tr>\n",
       "    <tr>\n",
       "      <th>281</th>\n",
       "      <td>False</td>\n",
       "    </tr>\n",
       "    <tr>\n",
       "      <th>291</th>\n",
       "      <td>True</td>\n",
       "    </tr>\n",
       "    <tr>\n",
       "      <th>306</th>\n",
       "      <td>True</td>\n",
       "    </tr>\n",
       "    <tr>\n",
       "      <th>349</th>\n",
       "      <td>True</td>\n",
       "    </tr>\n",
       "    <tr>\n",
       "      <th>371</th>\n",
       "      <td>True</td>\n",
       "    </tr>\n",
       "    <tr>\n",
       "      <th>527</th>\n",
       "      <td>True</td>\n",
       "    </tr>\n",
       "    <tr>\n",
       "      <th>534</th>\n",
       "      <td>True</td>\n",
       "    </tr>\n",
       "  </tbody>\n",
       "</table>\n",
       "</div>"
      ],
      "text/plain": [
       "     nbo_lp_P_e_boltz\n",
       "ID                   \n",
       "60               True\n",
       "91              False\n",
       "281             False\n",
       "291              True\n",
       "306              True\n",
       "349              True\n",
       "371              True\n",
       "527              True\n",
       "534              True"
      ]
     },
     "metadata": {},
     "output_type": "display_data"
    }
   ],
   "source": [
    "# Select hotspot to validate\n",
    "hotspot_index = 0\n",
    "\n",
    "# Set to True if you want to see only the virtual screen results plotted\n",
    "hide_training = False\n",
    "\n",
    "save_evaluation = False # Set to True if you want to save the threshold evaluation to an Excel file in the OutputData folder\n",
    "save_filename = \"threshold_evaluation\" # Name of the Excel file to save the threshold evaluation to if save_evaluation is True\n",
    "\n",
    "# --------------------------------------------------------------------------------------------------------------\n",
    "# EDIT ABOVE THIS LINE UNLESS YOU WANT TO CHANGE THE PLOTTING DETAILS IN hotspot_utils.plot_hotspot(...)\n",
    "# --------------------------------------------------------------------------------------------------------------\n",
    "\n",
    "hs = best_hotspots[hotspot_index]\n",
    "\n",
    "# Evaluate each validation point on each threshold\n",
    "threshold_evaluations = hs.expand(vs_combined_df)\n",
    "\n",
    "# Get validation stats and display the hotspot\n",
    "hs.get_external_accuracy(vs_combined_df, RESPONSE_LABEL, verbose=True)\n",
    "hotspot_utils.plot_hotspot(hs, vs_combined_df, vs_parameters_df, coloring='binary', output_label=RESPONSE_LABEL, hide_training=hide_training)\n",
    "\n",
    "# Display the threshold evaluations\n",
    "# True means the point is in on the active side of that threshold\n",
    "display(threshold_evaluations)\n",
    "\n",
    "# Save the threshold evaluations to an Excel file if requested\n",
    "if save_evaluation:\n",
    "    threshold_evaluations.to_excel(\"./OutputData/\" + save_filename + \".xlsx\")"
   ]
  },
  {
   "cell_type": "code",
   "execution_count": 19,
   "metadata": {
    "ExecuteTime": {
     "end_time": "2025-01-16T18:04:22.006610Z",
     "start_time": "2025-01-16T18:04:21.653441Z"
    },
    "scrolled": false
   },
   "outputs": [
    {
     "name": "stdout",
     "output_type": "stream",
     "text": [
      "Accuracy: 0.67\n",
      "Precision: 0.50\n",
      "Recall: 0.67\n"
     ]
    },
    {
     "data": {
      "image/png": "[encoded data removed]",
      "text/plain": [
       "<Figure size 720x576 with 1 Axes>"
      ]
     },
     "metadata": {},
     "output_type": "display_data"
    },
    {
     "data": {
      "text/html": [
       "<div>\n",
       "<style scoped>\n",
       "    .dataframe tbody tr th:only-of-type {\n",
       "        vertical-align: middle;\n",
       "    }\n",
       "\n",
       "    .dataframe tbody tr th {\n",
       "        vertical-align: top;\n",
       "    }\n",
       "\n",
       "    .dataframe thead th {\n",
       "        text-align: right;\n",
       "    }\n",
       "</style>\n",
       "<table border=\"1\" class=\"dataframe\">\n",
       "  <thead>\n",
       "    <tr style=\"text-align: right;\">\n",
       "      <th></th>\n",
       "      <th>pyr_P_boltz</th>\n",
       "    </tr>\n",
       "    <tr>\n",
       "      <th>ID</th>\n",
       "      <th></th>\n",
       "    </tr>\n",
       "  </thead>\n",
       "  <tbody>\n",
       "    <tr>\n",
       "      <th>60</th>\n",
       "      <td>True</td>\n",
       "    </tr>\n",
       "    <tr>\n",
       "      <th>91</th>\n",
       "      <td>True</td>\n",
       "    </tr>\n",
       "    <tr>\n",
       "      <th>281</th>\n",
       "      <td>False</td>\n",
       "    </tr>\n",
       "    <tr>\n",
       "      <th>291</th>\n",
       "      <td>True</td>\n",
       "    </tr>\n",
       "    <tr>\n",
       "      <th>306</th>\n",
       "      <td>False</td>\n",
       "    </tr>\n",
       "    <tr>\n",
       "      <th>349</th>\n",
       "      <td>False</td>\n",
       "    </tr>\n",
       "    <tr>\n",
       "      <th>371</th>\n",
       "      <td>False</td>\n",
       "    </tr>\n",
       "    <tr>\n",
       "      <th>527</th>\n",
       "      <td>False</td>\n",
       "    </tr>\n",
       "    <tr>\n",
       "      <th>534</th>\n",
       "      <td>True</td>\n",
       "    </tr>\n",
       "  </tbody>\n",
       "</table>\n",
       "</div>"
      ],
      "text/plain": [
       "     pyr_P_boltz\n",
       "ID              \n",
       "60          True\n",
       "91          True\n",
       "281        False\n",
       "291         True\n",
       "306        False\n",
       "349        False\n",
       "371        False\n",
       "527        False\n",
       "534         True"
      ]
     },
     "metadata": {},
     "output_type": "display_data"
    }
   ],
   "source": [
    "# Select hotspot to validate\n",
    "hotspot_index = 1\n",
    "\n",
    "# Set to True if you want to see only the virtual screen results plotted\n",
    "hide_training = False\n",
    "\n",
    "save_evaluation = False # Set to True if you want to save the threshold evaluation to an Excel file in the OutputData folder\n",
    "save_filename = \"threshold_evaluation\" # Name of the Excel file to save the threshold evaluation to if save_evaluation is True\n",
    "\n",
    "# --------------------------------------------------------------------------------------------------------------\n",
    "# EDIT ABOVE THIS LINE UNLESS YOU WANT TO CHANGE THE PLOTTING DETAILS IN hotspot_utils.plot_hotspot(...)\n",
    "# --------------------------------------------------------------------------------------------------------------\n",
    "\n",
    "hs = best_hotspots[hotspot_index]\n",
    "\n",
    "# Evaluate each validation point on each threshold\n",
    "threshold_evaluations = hs.expand(vs_combined_df)\n",
    "\n",
    "# Get validation stats and display the hotspot\n",
    "hs.get_external_accuracy(vs_combined_df, RESPONSE_LABEL, verbose=True)\n",
    "hotspot_utils.plot_hotspot(hs, vs_combined_df, vs_parameters_df, coloring='binary', output_label=RESPONSE_LABEL, hide_training=hide_training)\n",
    "\n",
    "# Display the threshold evaluations\n",
    "# True means the point is in on the active side of that threshold\n",
    "display(threshold_evaluations)\n",
    "\n",
    "# Save the threshold evaluations to an Excel file if requested\n",
    "if save_evaluation:\n",
    "    threshold_evaluations.to_excel(\"./OutputData/\" + save_filename + \".xlsx\")"
   ]
  },
  {
   "cell_type": "code",
   "execution_count": 17,
   "metadata": {
    "ExecuteTime": {
     "end_time": "2025-01-16T18:03:13.772416Z",
     "start_time": "2025-01-16T18:03:13.339656Z"
    }
   },
   "outputs": [
    {
     "name": "stdout",
     "output_type": "stream",
     "text": [
      "Accuracy: 0.78\n",
      "Precision: 0.67\n",
      "Recall: 0.67\n"
     ]
    },
    {
     "data": {
      "image/png": "[encoded data removed]",
      "text/plain": [
       "<Figure size 720x576 with 1 Axes>"
      ]
     },
     "metadata": {},
     "output_type": "display_data"
    },
    {
     "data": {
      "text/html": [
       "<div>\n",
       "<style scoped>\n",
       "    .dataframe tbody tr th:only-of-type {\n",
       "        vertical-align: middle;\n",
       "    }\n",
       "\n",
       "    .dataframe tbody tr th {\n",
       "        vertical-align: top;\n",
       "    }\n",
       "\n",
       "    .dataframe thead th {\n",
       "        text-align: right;\n",
       "    }\n",
       "</style>\n",
       "<table border=\"1\" class=\"dataframe\">\n",
       "  <thead>\n",
       "    <tr style=\"text-align: right;\">\n",
       "      <th></th>\n",
       "      <th>vbur_vbur_min</th>\n",
       "    </tr>\n",
       "    <tr>\n",
       "      <th>ID</th>\n",
       "      <th></th>\n",
       "    </tr>\n",
       "  </thead>\n",
       "  <tbody>\n",
       "    <tr>\n",
       "      <th>60</th>\n",
       "      <td>True</td>\n",
       "    </tr>\n",
       "    <tr>\n",
       "      <th>91</th>\n",
       "      <td>False</td>\n",
       "    </tr>\n",
       "    <tr>\n",
       "      <th>281</th>\n",
       "      <td>False</td>\n",
       "    </tr>\n",
       "    <tr>\n",
       "      <th>291</th>\n",
       "      <td>True</td>\n",
       "    </tr>\n",
       "    <tr>\n",
       "      <th>306</th>\n",
       "      <td>False</td>\n",
       "    </tr>\n",
       "    <tr>\n",
       "      <th>349</th>\n",
       "      <td>False</td>\n",
       "    </tr>\n",
       "    <tr>\n",
       "      <th>371</th>\n",
       "      <td>False</td>\n",
       "    </tr>\n",
       "    <tr>\n",
       "      <th>527</th>\n",
       "      <td>False</td>\n",
       "    </tr>\n",
       "    <tr>\n",
       "      <th>534</th>\n",
       "      <td>True</td>\n",
       "    </tr>\n",
       "  </tbody>\n",
       "</table>\n",
       "</div>"
      ],
      "text/plain": [
       "     vbur_vbur_min\n",
       "ID                \n",
       "60            True\n",
       "91           False\n",
       "281          False\n",
       "291           True\n",
       "306          False\n",
       "349          False\n",
       "371          False\n",
       "527          False\n",
       "534           True"
      ]
     },
     "metadata": {},
     "output_type": "display_data"
    }
   ],
   "source": [
    "# Select hotspot to validate\n",
    "hotspot_index = 2\n",
    "\n",
    "# Set to True if you want to see only the virtual screen results plotted\n",
    "hide_training = False\n",
    "\n",
    "save_evaluation = False # Set to True if you want to save the threshold evaluation to an Excel file in the OutputData folder\n",
    "save_filename = \"threshold_evaluation\" # Name of the Excel file to save the threshold evaluation to if save_evaluation is True\n",
    "\n",
    "# --------------------------------------------------------------------------------------------------------------\n",
    "# EDIT ABOVE THIS LINE UNLESS YOU WANT TO CHANGE THE PLOTTING DETAILS IN hotspot_utils.plot_hotspot(...)\n",
    "# --------------------------------------------------------------------------------------------------------------\n",
    "\n",
    "hs = best_hotspots[hotspot_index]\n",
    "\n",
    "# Evaluate each validation point on each threshold\n",
    "threshold_evaluations = hs.expand(vs_combined_df)\n",
    "\n",
    "# Get validation stats and display the hotspot\n",
    "hs.get_external_accuracy(vs_combined_df, RESPONSE_LABEL, verbose=True)\n",
    "hotspot_utils.plot_hotspot(hs, vs_combined_df, vs_parameters_df, coloring='binary', output_label=RESPONSE_LABEL, hide_training=hide_training)\n",
    "\n",
    "# Display the threshold evaluations\n",
    "# True means the point is in on the active side of that threshold\n",
    "display(threshold_evaluations)\n",
    "\n",
    "# Save the threshold evaluations to an Excel file if requested\n",
    "if save_evaluation:\n",
    "    threshold_evaluations.to_excel(\"./OutputData/\" + save_filename + \".xlsx\")"
   ]
  }
 ],
 "metadata": {
  "kernelspec": {
   "display_name": "my-rdkit-env",
   "language": "python",
   "name": "my-rdkit-env"
  },
  "language_info": {
   "codemirror_mode": {
    "name": "ipython",
    "version": 3
   },
   "file_extension": ".py",
   "mimetype": "text/x-python",
   "name": "python",
   "nbconvert_exporter": "python",
   "pygments_lexer": "ipython3",
   "version": "3.8.5"
  },
  "toc": {
   "base_numbering": 1,
   "nav_menu": {
    "height": "314px",
    "width": "313px"
   },
   "number_sections": true,
   "sideBar": true,
   "skip_h1_title": false,
   "title_cell": "Table of Contents",
   "title_sidebar": "Contents",
   "toc_cell": false,
   "toc_position": {
    "height": "calc(100% - 180px)",
    "left": "10px",
    "top": "150px",
    "width": "325.016px"
   },
   "toc_section_display": true,
   "toc_window_display": true
  },
  "varInspector": {
   "cols": {
    "lenName": 16,
    "lenType": 16,
    "lenVar": "400"
   },
   "kernels_config": {
    "python": {
     "delete_cmd_postfix": "",
     "delete_cmd_prefix": "del ",
     "library": "var_list.py",
     "varRefreshCmd": "print(var_dic_list())"
    },
    "r": {
     "delete_cmd_postfix": ") ",
     "delete_cmd_prefix": "rm(",
     "library": "var_list.r",
     "varRefreshCmd": "cat(var_dic_list()) "
    }
   },
   "oldHeight": 959.666666,
   "position": {
    "height": "981.263px",
    "left": "1534.33px",
    "right": "20px",
    "top": "5px",
    "width": "631.037px"
   },
   "types_to_exclude": [
    "module",
    "function",
    "builtin_function_or_method",
    "instance",
    "_Feature"
   ],
   "varInspector_section_display": "block",
   "window_display": false
  }
 },
 "nbformat": 4,
 "nbformat_minor": 2
}
